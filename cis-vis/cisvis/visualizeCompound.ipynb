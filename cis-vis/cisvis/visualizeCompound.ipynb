{
 "cells": [
  {
   "cell_type": "code",
   "execution_count": 6,
   "metadata": {
    "collapsed": true
   },
   "outputs": [],
   "source": [
    "import os\n",
    "from cisclient.client import CISClient\n",
    "from cisvis.spectra import generate_similarity_plot, generate_spectra_plot"
   ]
  },
  {
   "cell_type": "code",
   "execution_count": 7,
   "outputs": [],
   "source": [
    "# these will later be parameterized\n",
    "os.environ['CIS_URL'] = 'https://dev-api.metabolomics.us/cis'\n",
    "os.environ['CIS_API_TOKEN'] = 'rDJfRW6ilG2WooOR72AaE3NqL4m23WvY6ub4FEoS'\n",
    "splash = 'splash10-0002-0090500000-53c0a0bd55cd73db3ed9'\n",
    "library = 'soqe[M-H] | QExactive | test | negative'"
   ],
   "metadata": {
    "collapsed": false,
    "pycharm": {
     "name": "#%%\n"
    }
   }
  },
  {
   "cell_type": "code",
   "execution_count": 8,
   "outputs": [],
   "source": [
    "client =  CISClient(os.getenv('CIS_URL'), os.getenv('CIS_API_TOKEN'))\n",
    "\n",
    "compound = client.get_compound(library=library,splash=splash)\n",
    "members = list( map(lambda member: client.get_compound(library=library,splash=member),client.get_members(library=library,splash=splash)))"
   ],
   "metadata": {
    "collapsed": false,
    "pycharm": {
     "name": "#%%\n"
    }
   }
  },
  {
   "cell_type": "code",
   "execution_count": 9,
   "outputs": [
    {
     "name": "stdout",
     "output_type": "stream",
     "text": [
      "compound\n",
      "{'id': 627499, 'accurate_mass': 663.365112304688, 'target_type': 'UNCONFIRMED_CONSENSUS', 'inchi_key': '', 'matrix': '', 'method': 'soqe[M-H] | QExactive | test | negative', 'ms_level': 2, 'required_for_correction': False, 'retention_index': 162.163492483053, 'sample': 'unknown', 'spectrum': '70.185000:2627.78491 70.390000:2804.56323 70.435000:2389.11353 71.245000:2966.61694 71.500000:2505.06152 75.495000:2721.31567 75.515000:2559.94629 75.670000:3181.34595 78.640000:2701.74097 78.955000:29855.45313 79.335000:3037.46973 80.105000:2848.22021 80.575000:2973.52637 81.320000:2677.21265 81.640000:2938.55542 81.970000:2989.86157 84.870000:2784.22217 86.025000:2923.85596 86.775000:2670.73730 86.825000:2615.44287 87.005000:3239.90479 87.290000:3074.05371 87.405000:2672.47534 87.545000:2860.95825 87.775000:2887.01538 87.885000:2871.27710 88.535000:2801.04419 88.735000:2510.71191 90.990000:2929.71069 91.470000:3816.17065 91.720000:2932.51538 92.905000:2984.58325 93.215000:2511.60376 93.650000:2659.75659 94.920000:2592.84131 97.060000:3093.01855 97.080000:2769.47168 99.340000:2754.13110 101.590000:2600.15283 103.380000:2955.18018 105.875000:2897.55981 105.915000:2827.08203 106.130000:2743.94312 106.730000:2550.34253 109.470000:2875.15454 110.095000:2780.31494 111.845000:2992.95166 114.180000:3278.85425 114.655000:2476.83691 115.205000:2857.19214 118.595000:2726.43237 119.065000:2529.26978 119.370000:2639.94751 121.190000:2771.60889 121.450000:2678.21143 122.140000:2963.82446 124.675000:2829.19458 129.020000:3106.71069 132.470000:2742.66211 133.580000:2946.34033 134.100000:2808.76953 134.995000:2733.07935 139.220000:2860.04639 140.005000:3846.54077 140.065000:3196.67554 141.015000:13043.78320 141.340000:2923.22412 142.240000:2715.55566 147.095000:3118.79956 149.110000:3108.79590 151.255000:3055.27759 152.470000:2819.87231 153.455000:3185.64136 160.280000:2883.97754 162.710000:2717.85596 163.815000:2708.65527 165.810000:3587.42822 166.890000:2515.59082 169.785000:3086.15698 170.225000:3546.97266 171.495000:2757.45801 172.760000:2637.20264 175.125000:2842.16553 175.525000:2937.46973 175.560000:2872.75488 177.100000:3003.22021 177.630000:2715.10474 178.075000:3224.11084 178.260000:3173.94312 179.690000:2847.11084 181.330000:2634.75903 184.255000:2850.03735 185.855000:2576.32007 186.175000:2799.73853 187.645000:3142.80786 194.035000:3308.31299 195.550000:2780.75952 196.565000:13147.76660 196.570000:17355.67383 196.590000:48505.83984 196.665000:20164.56641 196.690000:17528.99414 198.190000:2671.12793 198.935000:2837.43237 199.310000:18842.94336 199.705000:14923.16504 199.725000:6348.88525 201.065000:580908.31250 201.210000:8721.66699 201.310000:11098.45703 201.320000:15052.98535 201.325000:6057.84961 201.330000:3673.87451 201.345000:12526.70117 201.350000:5347.14600 201.415000:12164.08691 201.685000:11914.60254 201.695000:12688.39648 201.745000:2865.72095 202.525000:3560.55396 202.545000:5992.51172 203.225000:5724.85498 203.235000:6232.13525 203.240000:7882.29492 203.245000:3611.85059 203.255000:4843.94287 203.285000:6966.42236 203.290000:7080.40771 203.295000:6336.54053 203.320000:6640.63770 203.350000:3867.51563 203.365000:10980.25781 203.380000:5569.27832 203.405000:5542.83350 203.420000:3721.38159 204.070000:5132.79980 205.770000:3030.37842 208.685000:2804.03149 212.925000:3213.29150 213.110000:2579.62085 215.990000:2708.15747 219.075000:7693.51514 220.230000:2540.98926 221.495000:2960.54492 230.315000:2993.69336 230.665000:2698.97681 231.895000:3177.35815 234.705000:3044.37207 235.805000:3128.27100 236.660000:3086.13770 238.715000:2768.20947 238.815000:2989.65454 244.215000:2909.48291 254.830000:2861.02393 255.770000:3130.65063 257.230000:3260.04712 258.035000:2836.58447 258.125000:2685.96436 264.695000:2804.46533 274.605000:2859.61353 285.475000:2937.49951 285.655000:2860.86646 288.950000:2810.32495 295.815000:3175.77856 297.275000:2129598.00000 297.280000:1856537.87500 298.280000:3538.65186 299.005000:2599.17578 303.800000:3437.66577 304.450000:3053.78198 307.150000:2855.86328 312.905000:2891.70020 319.920000:2798.57031 327.450000:3005.37500 360.005000:3248.13696 378.505000:3087.92163 392.930000:3175.69092 394.785000:2955.66553 394.860000:2900.37549 401.195000:3173.58569 410.900000:2651.84595 426.370000:2990.59985 430.545000:2924.69800 431.840000:3256.35693 442.320000:2831.90112 452.775000:3309.77271 457.775000:3434.56958 464.465000:2898.61011 475.385000:3266.09009 478.035000:3082.90601 480.315000:2932.62842 491.875000:3571.95142 492.230000:2846.02124 492.565000:3597.84351 499.270000:3227.64429 499.275000:4511.57715 499.355000:2757935.00000 499.435000:5563.01855 526.070000:3013.96094 536.840000:2942.46509 544.210000:2931.98633 557.050000:2934.18066 581.350000:10336.18945 581.355000:189000.95313 581.360000:52686.85938 587.480000:2893.15210 591.320000:2807.07422 594.675000:3329.65601 605.400000:3725.55151 612.945000:2847.70850 644.025000:3749.90088 645.825000:3467.81763', 'splash': 'splash10-0002-0090500000-53c0a0bd55cd73db3ed9', 'name': 'unknown_663.3651_162.1635', 'unique_mass': 0.0, 'precursor_mass': 663.365112304688}\n"
     ]
    }
   ],
   "source": [
    "print(\"compound\")\n",
    "print(compound)"
   ],
   "metadata": {
    "collapsed": false,
    "pycharm": {
     "name": "#%%\n"
    }
   }
  },
  {
   "cell_type": "code",
   "execution_count": 10,
   "outputs": [
    {
     "ename": "UFuncTypeError",
     "evalue": "ufunc 'subtract' did not contain a loop with signature matching types (dtype('<U79'), dtype('<U79')) -> dtype('<U79')",
     "output_type": "error",
     "traceback": [
      "\u001B[0;31m---------------------------------------------------------------------------\u001B[0m",
      "\u001B[0;31mUFuncTypeError\u001B[0m                            Traceback (most recent call last)",
      "\u001B[0;32m<ipython-input-10-297915829209>\u001B[0m in \u001B[0;36m<module>\u001B[0;34m\u001B[0m\n\u001B[0;32m----> 1\u001B[0;31m \u001B[0mgenerate_similarity_plot\u001B[0m\u001B[0;34m(\u001B[0m\u001B[0mmembers\u001B[0m\u001B[0;34m,\u001B[0m\u001B[0;34m\"title similarity plot for splash: {}\"\u001B[0m\u001B[0;34m.\u001B[0m\u001B[0mformat\u001B[0m\u001B[0;34m(\u001B[0m\u001B[0msplash\u001B[0m\u001B[0;34m)\u001B[0m\u001B[0;34m)\u001B[0m\u001B[0;34m\u001B[0m\u001B[0;34m\u001B[0m\u001B[0m\n\u001B[0m",
      "\u001B[0;32m~/workspace/carpy/cis-vis/cisvis/spectra.py\u001B[0m in \u001B[0;36mgenerate_similarity_plot\u001B[0;34m(compoud, tolerance, title)\u001B[0m\n\u001B[1;32m     50\u001B[0m             \u001B[0my\u001B[0m\u001B[0;34m:\u001B[0m \u001B[0mMSMSSpectrum\u001B[0m \u001B[0;34m=\u001B[0m \u001B[0msecond\u001B[0m\u001B[0;34m\u001B[0m\u001B[0;34m\u001B[0m\u001B[0m\n\u001B[1;32m     51\u001B[0m \u001B[0;34m\u001B[0m\u001B[0m\n\u001B[0;32m---> 52\u001B[0;31m             \u001B[0mdata\u001B[0m\u001B[0;34m.\u001B[0m\u001B[0mappend\u001B[0m\u001B[0;34m(\u001B[0m\u001B[0;34m{\u001B[0m\u001B[0;34m'x'\u001B[0m\u001B[0;34m:\u001B[0m \u001B[0mx\u001B[0m\u001B[0;34m.\u001B[0m\u001B[0mname\u001B[0m\u001B[0;34m,\u001B[0m \u001B[0;34m'y'\u001B[0m\u001B[0;34m:\u001B[0m \u001B[0my\u001B[0m\u001B[0;34m.\u001B[0m\u001B[0mname\u001B[0m\u001B[0;34m,\u001B[0m \u001B[0;34m'score'\u001B[0m\u001B[0;34m:\u001B[0m \u001B[0mx\u001B[0m\u001B[0;34m.\u001B[0m\u001B[0mspectral_similarity\u001B[0m\u001B[0;34m(\u001B[0m\u001B[0my\u001B[0m\u001B[0;34m,\u001B[0m \u001B[0mtolerance\u001B[0m\u001B[0;34m=\u001B[0m\u001B[0mtolerance\u001B[0m\u001B[0;34m)\u001B[0m\u001B[0;34m}\u001B[0m\u001B[0;34m)\u001B[0m\u001B[0;34m\u001B[0m\u001B[0;34m\u001B[0m\u001B[0m\n\u001B[0m\u001B[1;32m     53\u001B[0m \u001B[0;34m\u001B[0m\u001B[0m\n\u001B[1;32m     54\u001B[0m     \u001B[0mhm\u001B[0m \u001B[0;34m=\u001B[0m \u001B[0mpd\u001B[0m\u001B[0;34m.\u001B[0m\u001B[0mDataFrame\u001B[0m\u001B[0;34m(\u001B[0m\u001B[0mdata\u001B[0m\u001B[0;34m)\u001B[0m\u001B[0;34m\u001B[0m\u001B[0;34m\u001B[0m\u001B[0m\n",
      "\u001B[0;32m~/workspace/carpy/cis-vis/.venv/lib/python3.8/site-packages/pyspec/parser/pymzl/msms_spectrum.py\u001B[0m in \u001B[0;36mspectral_similarity\u001B[0;34m(self, library_spectrum, tolerance, peak_count_penalty)\u001B[0m\n\u001B[1;32m     76\u001B[0m     \u001B[0;32mdef\u001B[0m \u001B[0mspectral_similarity\u001B[0m\u001B[0;34m(\u001B[0m\u001B[0mself\u001B[0m\u001B[0;34m,\u001B[0m \u001B[0mlibrary_spectrum\u001B[0m\u001B[0;34m:\u001B[0m \u001B[0mMSMSSpectrum\u001B[0m\u001B[0;34m,\u001B[0m \u001B[0mtolerance\u001B[0m\u001B[0;34m:\u001B[0m \u001B[0mfloat\u001B[0m\u001B[0;34m,\u001B[0m \u001B[0mpeak_count_penalty\u001B[0m\u001B[0;34m:\u001B[0m \u001B[0mbool\u001B[0m \u001B[0;34m=\u001B[0m \u001B[0;32mTrue\u001B[0m\u001B[0;34m)\u001B[0m \u001B[0;34m->\u001B[0m \u001B[0mfloat\u001B[0m\u001B[0;34m:\u001B[0m\u001B[0;34m\u001B[0m\u001B[0;34m\u001B[0m\u001B[0m\n\u001B[1;32m     77\u001B[0m         \u001B[0;32mfrom\u001B[0m \u001B[0mpyspec\u001B[0m\u001B[0;34m.\u001B[0m\u001B[0msimilarity\u001B[0m\u001B[0;34m.\u001B[0m\u001B[0mmsdial_similarity\u001B[0m \u001B[0;32mimport\u001B[0m \u001B[0mspectral_similarity\u001B[0m\u001B[0;34m\u001B[0m\u001B[0;34m\u001B[0m\u001B[0m\n\u001B[0;32m---> 78\u001B[0;31m         \u001B[0;32mreturn\u001B[0m \u001B[0mspectral_similarity\u001B[0m\u001B[0;34m(\u001B[0m\u001B[0mself\u001B[0m\u001B[0;34m,\u001B[0m \u001B[0mlibrary_spectrum\u001B[0m\u001B[0;34m,\u001B[0m \u001B[0mtolerance\u001B[0m\u001B[0;34m,\u001B[0m \u001B[0mpeak_count_penalty\u001B[0m\u001B[0;34m=\u001B[0m\u001B[0mpeak_count_penalty\u001B[0m\u001B[0;34m)\u001B[0m\u001B[0;34m\u001B[0m\u001B[0;34m\u001B[0m\u001B[0m\n\u001B[0m\u001B[1;32m     79\u001B[0m \u001B[0;34m\u001B[0m\u001B[0m\n\u001B[1;32m     80\u001B[0m     def total_similarity(self, library_spectrum: MSMSSpectrum, ms1_tolerance: float, ms2_tolerance: float,\n",
      "\u001B[0;32m~/workspace/carpy/cis-vis/.venv/lib/python3.8/site-packages/pyspec/similarity/msdial_similarity.py\u001B[0m in \u001B[0;36mspectral_similarity\u001B[0;34m(s, lib, tolerance, peak_count_penalty, precursor_cutoff)\u001B[0m\n\u001B[1;32m    257\u001B[0m     \u001B[0;32mwhile\u001B[0m \u001B[0mfocused_mz\u001B[0m \u001B[0;34m<=\u001B[0m \u001B[0mmax_mz\u001B[0m\u001B[0;34m:\u001B[0m\u001B[0;34m\u001B[0m\u001B[0;34m\u001B[0m\u001B[0m\n\u001B[1;32m    258\u001B[0m         \u001B[0;31m# find library ions within tolerance of the focused m/z\u001B[0m\u001B[0;34m\u001B[0m\u001B[0;34m\u001B[0m\u001B[0;34m\u001B[0m\u001B[0m\n\u001B[0;32m--> 259\u001B[0;31m         \u001B[0msum_lib\u001B[0m\u001B[0;34m,\u001B[0m \u001B[0mi_lib\u001B[0m \u001B[0;34m=\u001B[0m \u001B[0m_sum_ions_in_mass_window\u001B[0m\u001B[0;34m(\u001B[0m\u001B[0mlib_peaks\u001B[0m\u001B[0;34m,\u001B[0m \u001B[0mi_lib\u001B[0m\u001B[0;34m,\u001B[0m \u001B[0mfocused_mz\u001B[0m\u001B[0;34m,\u001B[0m \u001B[0mtolerance\u001B[0m\u001B[0;34m)\u001B[0m\u001B[0;34m\u001B[0m\u001B[0;34m\u001B[0m\u001B[0m\n\u001B[0m\u001B[1;32m    260\u001B[0m \u001B[0;34m\u001B[0m\u001B[0m\n\u001B[1;32m    261\u001B[0m         \u001B[0;31m# find unknown ions within tolerance of the focused m/z\u001B[0m\u001B[0;34m\u001B[0m\u001B[0;34m\u001B[0m\u001B[0;34m\u001B[0m\u001B[0m\n",
      "\u001B[0;32m~/workspace/carpy/cis-vis/.venv/lib/python3.8/site-packages/pyspec/similarity/msdial_similarity.py\u001B[0m in \u001B[0;36m_sum_ions_in_mass_window\u001B[0;34m(peaks, starting_idx, focused_mz, tolerance)\u001B[0m\n\u001B[1;32m     27\u001B[0m \u001B[0;34m\u001B[0m\u001B[0m\n\u001B[1;32m     28\u001B[0m     \u001B[0;32mfor\u001B[0m \u001B[0mi\u001B[0m \u001B[0;32min\u001B[0m \u001B[0mrange\u001B[0m\u001B[0;34m(\u001B[0m\u001B[0mstarting_idx\u001B[0m\u001B[0;34m,\u001B[0m \u001B[0mlen\u001B[0m\u001B[0;34m(\u001B[0m\u001B[0mpeaks\u001B[0m\u001B[0;34m)\u001B[0m\u001B[0;34m)\u001B[0m\u001B[0;34m:\u001B[0m\u001B[0;34m\u001B[0m\u001B[0;34m\u001B[0m\u001B[0m\n\u001B[0;32m---> 29\u001B[0;31m         \u001B[0;32mif\u001B[0m \u001B[0mpeaks\u001B[0m\u001B[0;34m[\u001B[0m\u001B[0mi\u001B[0m\u001B[0;34m]\u001B[0m\u001B[0;34m[\u001B[0m\u001B[0;36m0\u001B[0m\u001B[0;34m]\u001B[0m \u001B[0;34m<\u001B[0m \u001B[0mfocused_mz\u001B[0m \u001B[0;34m-\u001B[0m \u001B[0mtolerance\u001B[0m\u001B[0;34m:\u001B[0m\u001B[0;34m\u001B[0m\u001B[0;34m\u001B[0m\u001B[0m\n\u001B[0m\u001B[1;32m     30\u001B[0m             \u001B[0;32mcontinue\u001B[0m\u001B[0;34m\u001B[0m\u001B[0;34m\u001B[0m\u001B[0m\n\u001B[1;32m     31\u001B[0m         \u001B[0;32melif\u001B[0m \u001B[0mfocused_mz\u001B[0m \u001B[0;34m-\u001B[0m \u001B[0mtolerance\u001B[0m \u001B[0;34m<=\u001B[0m \u001B[0mpeaks\u001B[0m\u001B[0;34m[\u001B[0m\u001B[0mi\u001B[0m\u001B[0;34m]\u001B[0m\u001B[0;34m[\u001B[0m\u001B[0;36m0\u001B[0m\u001B[0;34m]\u001B[0m \u001B[0;34m<\u001B[0m \u001B[0mfocused_mz\u001B[0m \u001B[0;34m+\u001B[0m \u001B[0mtolerance\u001B[0m\u001B[0;34m:\u001B[0m\u001B[0;34m\u001B[0m\u001B[0;34m\u001B[0m\u001B[0m\n",
      "\u001B[0;31mUFuncTypeError\u001B[0m: ufunc 'subtract' did not contain a loop with signature matching types (dtype('<U79'), dtype('<U79')) -> dtype('<U79')"
     ]
    }
   ],
   "source": [
    "generate_similarity_plot(members,\"title similarity plot for splash: {}\".format(splash))"
   ],
   "metadata": {
    "collapsed": false,
    "pycharm": {
     "name": "#%%\n"
    }
   }
  },
  {
   "cell_type": "code",
   "execution_count": null,
   "outputs": [],
   "source": [
    "print(\"members\")\n",
    "for c in members:\n",
    "    generate_spectra_plot(c)"
   ],
   "metadata": {
    "collapsed": false,
    "pycharm": {
     "name": "#%%\n"
    }
   }
  }
 ],
 "metadata": {
  "kernelspec": {
   "display_name": "Python 3",
   "language": "python",
   "name": "python3"
  },
  "language_info": {
   "codemirror_mode": {
    "name": "ipython",
    "version": 2
   },
   "file_extension": ".py",
   "mimetype": "text/x-python",
   "name": "python",
   "nbconvert_exporter": "python",
   "pygments_lexer": "ipython2",
   "version": "2.7.6"
  }
 },
 "nbformat": 4,
 "nbformat_minor": 0
}