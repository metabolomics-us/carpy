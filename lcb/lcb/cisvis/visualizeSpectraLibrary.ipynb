{
 "cells": [
  {
   "cell_type": "code",
   "execution_count": 7,
   "metadata": {
    "collapsed": true
   },
   "outputs": [],
   "source": [
    "%matplotlib inline\n",
    "import matplotlib.pyplot as plt\n",
    "plt.rcParams['figure.figsize'] = [12, 5]\n",
    "\n"
   ]
  },
  {
   "cell_type": "code",
   "execution_count": 8,
   "outputs": [],
   "source": [
    "# these are parameterized over papermill\n",
    "from cisclient.client import CISClient\n",
    "from lcb.cisvis.spectra import generate_spectra_plot, generate_similarity_plot, to_dataframe, \\\n",
    "    generate_histogram_accurate_mass, generate_histogram_intensity, generate_head_tail_plot, generate_histogram_ri\n",
    "cis_url = 'https://dev-api.metabolomics.us/cis'\n",
    "cis_api_token = 'rDJfRW6ilG2WooOR72AaE3NqL4m23WvY6ub4FEoS'\n",
    "library = \"soqe[M+H][M+NH4] | QExactive | test | positive\""
   ],
   "metadata": {
    "collapsed": false,
    "pycharm": {
     "name": "#%%\n"
    }
   }
  },
  {
   "cell_type": "code",
   "execution_count": 9,
   "outputs": [],
   "source": [
    "\n",
    "client =  CISClient(cis_url, cis_api_token)\n",
    "data = []\n",
    "compounds = client.get_compounds_by_type(library=library,target_type='CONFIRMED_CONSENSUS',autopage=True)"
   ],
   "metadata": {
    "collapsed": false,
    "pycharm": {
     "name": "#%%\n"
    }
   }
  },
  {
   "cell_type": "code",
   "execution_count": 10,
   "outputs": [
    {
     "name": "stdout",
     "output_type": "stream",
     "text": [
      "soqe[M+H][M+NH4] | QExactive | test | positive contains 2857 confirmed compounds\n"
     ]
    }
   ],
   "source": [
    "print(\"{} contains {} confirmed compounds\".format(library,len(compounds)))"
   ],
   "metadata": {
    "collapsed": false,
    "pycharm": {
     "name": "#%%\n"
    }
   }
  },
  {
   "cell_type": "code",
   "execution_count": 11,
   "outputs": [],
   "source": [
    "for splash in compounds:\n",
    "    compound = client.get_compound(library=library, splash=splash)\n",
    "    data.append(compound)\n"
   ],
   "metadata": {
    "collapsed": false,
    "pycharm": {
     "name": "#%%\n"
    }
   }
  },
  {
   "cell_type": "markdown",
   "source": [
    "this plot plots all similarity scores of this library against each other"
   ],
   "metadata": {
    "collapsed": false,
    "pycharm": {
     "name": "#%% md\n"
    }
   }
  },
  {
   "cell_type": "code",
   "execution_count": 12,
   "outputs": [
    {
     "name": "stdout",
     "output_type": "stream",
     "text": [
      "Index contains duplicate entries, cannot reshape\n"
     ]
    },
    {
     "data": {
      "text/plain": "<Figure size 864x360 with 1 Axes>",
      "image/png": "[encoded data removed]"
     },
     "metadata": {
      "needs_background": "light"
     },
     "output_type": "display_data"
    }
   ],
   "source": [
    "sim = generate_similarity_plot(data)\n",
    "lib = to_dataframe(data)\n",
    "lib['members'] = lib['splash'].apply(lambda x: list(map(lambda y: client.get_compound(library=library,splash=y),client.get_members(library=library,splash=x,autopage=True))))\n",
    "\n",
    "lib_to_show = lib.drop(['accurate_mass','spectrum','method','ms_level','required_for_correction','inchi_key','target_type','splash','unique_mass','name'],axis=1)"
   ],
   "metadata": {
    "collapsed": false,
    "pycharm": {
     "name": "#%%\n"
    }
   }
  },
  {
   "cell_type": "markdown",
   "source": [
    "this is the content of the actual library"
   ],
   "metadata": {
    "collapsed": false,
    "pycharm": {
     "name": "#%% md\n"
    }
   }
  },
  {
   "cell_type": "code",
   "execution_count": 13,
   "outputs": [
    {
     "data": {
      "text/plain": "           id matrix  retention_index                             sample  \\\n0     1062070              229.793849  consensus spectrum from 1 samples   \n1     1062071              345.230711  consensus spectrum from 1 samples   \n2     1062072              661.537928  consensus spectrum from 1 samples   \n3     1062073              222.451066  consensus spectrum from 1 samples   \n4     1057127              650.124603  consensus spectrum from 1 samples   \n...       ...    ...              ...                                ...   \n2852  1078858              648.473450  consensus spectrum from 1 samples   \n2853  1078859              651.555879  consensus spectrum from 1 samples   \n2854  1078860              553.076380  consensus spectrum from 1 samples   \n2855  1078861              349.593935  consensus spectrum from 1 samples   \n2856  1078862              401.914953  consensus spectrum from 1 samples   \n\n      precursor_mass                                            members  \n0         419.316376  [{'id': 1062070, 'accurate_mass': 419.31637573...  \n1         613.481750  [{'id': 1062071, 'accurate_mass': 613.48175048...  \n2         413.267426  [{'id': 1062072, 'accurate_mass': 413.26742553...  \n3         702.215271  [{'id': 1062073, 'accurate_mass': 702.21527099...  \n4         680.633484  [{'id': 1057127, 'accurate_mass': 680.63348388...  \n...              ...                                                ...  \n2852      855.744568  [{'id': 1078858, 'accurate_mass': 855.74456787...  \n2853      850.787476  [{'id': 1078859, 'accurate_mass': 850.78747558...  \n2854      842.728149  [{'id': 1078860, 'accurate_mass': 842.72814941...  \n2855      817.588013  [{'id': 1078861, 'accurate_mass': 817.58801269...  \n2856      823.747559  [{'id': 1078862, 'accurate_mass': 823.74755859...  \n\n[2857 rows x 6 columns]",
      "text/html": "<div>\n<style scoped>\n    .dataframe tbody tr th:only-of-type {\n        vertical-align: middle;\n    }\n\n    .dataframe tbody tr th {\n        vertical-align: top;\n    }\n\n    .dataframe thead th {\n        text-align: right;\n    }\n</style>\n<table border=\"1\" class=\"dataframe\">\n  <thead>\n    <tr style=\"text-align: right;\">\n      <th></th>\n      <th>id</th>\n      <th>matrix</th>\n      <th>retention_index</th>\n      <th>sample</th>\n      <th>precursor_mass</th>\n      <th>members</th>\n    </tr>\n  </thead>\n  <tbody>\n    <tr>\n      <th>0</th>\n      <td>1062070</td>\n      <td></td>\n      <td>229.793849</td>\n      <td>consensus spectrum from 1 samples</td>\n      <td>419.316376</td>\n      <td>[{'id': 1062070, 'accurate_mass': 419.31637573...</td>\n    </tr>\n    <tr>\n      <th>1</th>\n      <td>1062071</td>\n      <td></td>\n      <td>345.230711</td>\n      <td>consensus spectrum from 1 samples</td>\n      <td>613.481750</td>\n      <td>[{'id': 1062071, 'accurate_mass': 613.48175048...</td>\n    </tr>\n    <tr>\n      <th>2</th>\n      <td>1062072</td>\n      <td></td>\n      <td>661.537928</td>\n      <td>consensus spectrum from 1 samples</td>\n      <td>413.267426</td>\n      <td>[{'id': 1062072, 'accurate_mass': 413.26742553...</td>\n    </tr>\n    <tr>\n      <th>3</th>\n      <td>1062073</td>\n      <td></td>\n      <td>222.451066</td>\n      <td>consensus spectrum from 1 samples</td>\n      <td>702.215271</td>\n      <td>[{'id': 1062073, 'accurate_mass': 702.21527099...</td>\n    </tr>\n    <tr>\n      <th>4</th>\n      <td>1057127</td>\n      <td></td>\n      <td>650.124603</td>\n      <td>consensus spectrum from 1 samples</td>\n      <td>680.633484</td>\n      <td>[{'id': 1057127, 'accurate_mass': 680.63348388...</td>\n    </tr>\n    <tr>\n      <th>...</th>\n      <td>...</td>\n      <td>...</td>\n      <td>...</td>\n      <td>...</td>\n      <td>...</td>\n      <td>...</td>\n    </tr>\n    <tr>\n      <th>2852</th>\n      <td>1078858</td>\n      <td></td>\n      <td>648.473450</td>\n      <td>consensus spectrum from 1 samples</td>\n      <td>855.744568</td>\n      <td>[{'id': 1078858, 'accurate_mass': 855.74456787...</td>\n    </tr>\n    <tr>\n      <th>2853</th>\n      <td>1078859</td>\n      <td></td>\n      <td>651.555879</td>\n      <td>consensus spectrum from 1 samples</td>\n      <td>850.787476</td>\n      <td>[{'id': 1078859, 'accurate_mass': 850.78747558...</td>\n    </tr>\n    <tr>\n      <th>2854</th>\n      <td>1078860</td>\n      <td></td>\n      <td>553.076380</td>\n      <td>consensus spectrum from 1 samples</td>\n      <td>842.728149</td>\n      <td>[{'id': 1078860, 'accurate_mass': 842.72814941...</td>\n    </tr>\n    <tr>\n      <th>2855</th>\n      <td>1078861</td>\n      <td></td>\n      <td>349.593935</td>\n      <td>consensus spectrum from 1 samples</td>\n      <td>817.588013</td>\n      <td>[{'id': 1078861, 'accurate_mass': 817.58801269...</td>\n    </tr>\n    <tr>\n      <th>2856</th>\n      <td>1078862</td>\n      <td></td>\n      <td>401.914953</td>\n      <td>consensus spectrum from 1 samples</td>\n      <td>823.747559</td>\n      <td>[{'id': 1078862, 'accurate_mass': 823.74755859...</td>\n    </tr>\n  </tbody>\n</table>\n<p>2857 rows × 6 columns</p>\n</div>"
     },
     "execution_count": 13,
     "metadata": {},
     "output_type": "execute_result"
    }
   ],
   "source": [
    "lib_to_show"
   ],
   "metadata": {
    "collapsed": false,
    "pycharm": {
     "name": "#%%\n"
    }
   }
  },
  {
   "cell_type": "markdown",
   "source": [
    "This is a visualization of the spectra each consensus is made up off"
   ],
   "metadata": {
    "collapsed": false,
    "pycharm": {
     "name": "#%% md\n"
    }
   }
  },
  {
   "cell_type": "code",
   "execution_count": 14,
   "outputs": [
    {
     "name": "stderr",
     "output_type": "stream",
     "text": [
      "/home/wohlgemuth/PycharmProjects/carpy/lcb/.venv/lib/python3.8/site-packages/seaborn/distributions.py:283: UserWarning: Data must have variance to compute a kernel density estimate.\n",
      "  warnings.warn(msg, UserWarning)\n",
      "/home/wohlgemuth/PycharmProjects/carpy/lcb/.venv/lib/python3.8/site-packages/seaborn/distributions.py:283: UserWarning: Data must have variance to compute a kernel density estimate.\n",
      "  warnings.warn(msg, UserWarning)\n",
      "/home/wohlgemuth/PycharmProjects/carpy/lcb/.venv/lib/python3.8/site-packages/seaborn/distributions.py:283: UserWarning: Data must have variance to compute a kernel density estimate.\n",
      "  warnings.warn(msg, UserWarning)\n"
     ]
    },
    {
     "data": {
      "text/plain": "<Figure size 864x360 with 3 Axes>",
      "image/png": "[encoded data removed]"
     },
     "metadata": {
      "needs_background": "light"
     },
     "output_type": "display_data"
    },
    {
     "ename": "TypeError",
     "evalue": "generate_head_tail_plot() missing 1 required positional argument: 'figsize'",
     "output_type": "error",
     "traceback": [
      "\u001B[0;31m---------------------------------------------------------------------------\u001B[0m",
      "\u001B[0;31mTypeError\u001B[0m                                 Traceback (most recent call last)",
      "\u001B[0;32m<ipython-input-14-f4d37b67e826>\u001B[0m in \u001B[0;36m<module>\u001B[0;34m\u001B[0m\n\u001B[1;32m     13\u001B[0m     \u001B[0mmem\u001B[0m \u001B[0;34m=\u001B[0m \u001B[0mto_dataframe\u001B[0m\u001B[0;34m(\u001B[0m\u001B[0mmembers\u001B[0m\u001B[0;34m)\u001B[0m\u001B[0;34m.\u001B[0m\u001B[0mdrop\u001B[0m\u001B[0;34m(\u001B[0m\u001B[0;34m[\u001B[0m\u001B[0;34m'accurate_mass'\u001B[0m\u001B[0;34m,\u001B[0m\u001B[0;34m'spectrum'\u001B[0m\u001B[0;34m,\u001B[0m\u001B[0;34m'method'\u001B[0m\u001B[0;34m,\u001B[0m\u001B[0;34m'ms_level'\u001B[0m\u001B[0;34m,\u001B[0m\u001B[0;34m'required_for_correction'\u001B[0m\u001B[0;34m,\u001B[0m\u001B[0;34m'inchi_key'\u001B[0m\u001B[0;34m,\u001B[0m\u001B[0;34m'target_type'\u001B[0m\u001B[0;34m,\u001B[0m\u001B[0;34m'splash'\u001B[0m\u001B[0;34m,\u001B[0m\u001B[0;34m'unique_mass'\u001B[0m\u001B[0;34m,\u001B[0m\u001B[0;34m'name'\u001B[0m\u001B[0;34m]\u001B[0m\u001B[0;34m,\u001B[0m\u001B[0maxis\u001B[0m\u001B[0;34m=\u001B[0m\u001B[0;36m1\u001B[0m\u001B[0;34m)\u001B[0m\u001B[0;34m\u001B[0m\u001B[0;34m\u001B[0m\u001B[0m\n\u001B[1;32m     14\u001B[0m     \u001B[0;32mreturn\u001B[0m \u001B[0mmem\u001B[0m\u001B[0;34m\u001B[0m\u001B[0;34m\u001B[0m\u001B[0m\n\u001B[0;32m---> 15\u001B[0;31m \u001B[0mmembers\u001B[0m \u001B[0;34m=\u001B[0m \u001B[0;34m[\u001B[0m\u001B[0mshow\u001B[0m\u001B[0;34m(\u001B[0m\u001B[0mcompound\u001B[0m\u001B[0;34m,\u001B[0m \u001B[0mmembers\u001B[0m\u001B[0;34m)\u001B[0m \u001B[0;32mfor\u001B[0m \u001B[0mcompound\u001B[0m\u001B[0;34m,\u001B[0m \u001B[0mmembers\u001B[0m \u001B[0;32min\u001B[0m \u001B[0mzip\u001B[0m\u001B[0;34m(\u001B[0m\u001B[0mlib\u001B[0m\u001B[0;34m[\u001B[0m\u001B[0;34m'splash'\u001B[0m\u001B[0;34m]\u001B[0m\u001B[0;34m.\u001B[0m\u001B[0mapply\u001B[0m\u001B[0;34m(\u001B[0m\u001B[0;32mlambda\u001B[0m \u001B[0mx\u001B[0m\u001B[0;34m:\u001B[0m \u001B[0mclient\u001B[0m\u001B[0;34m.\u001B[0m\u001B[0mget_compound\u001B[0m\u001B[0;34m(\u001B[0m\u001B[0mlibrary\u001B[0m\u001B[0;34m=\u001B[0m\u001B[0mlibrary\u001B[0m\u001B[0;34m,\u001B[0m\u001B[0msplash\u001B[0m\u001B[0;34m=\u001B[0m\u001B[0mx\u001B[0m\u001B[0;34m)\u001B[0m\u001B[0;34m)\u001B[0m\u001B[0;34m,\u001B[0m \u001B[0mlib\u001B[0m\u001B[0;34m[\u001B[0m\u001B[0;34m'members'\u001B[0m\u001B[0;34m]\u001B[0m\u001B[0;34m)\u001B[0m\u001B[0;34m]\u001B[0m\u001B[0;34m\u001B[0m\u001B[0;34m\u001B[0m\u001B[0m\n\u001B[0m\u001B[1;32m     16\u001B[0m \u001B[0;34m\u001B[0m\u001B[0m\n\u001B[1;32m     17\u001B[0m \u001B[0;34m\u001B[0m\u001B[0m\n",
      "\u001B[0;32m<ipython-input-14-f4d37b67e826>\u001B[0m in \u001B[0;36m<listcomp>\u001B[0;34m(.0)\u001B[0m\n\u001B[1;32m     13\u001B[0m     \u001B[0mmem\u001B[0m \u001B[0;34m=\u001B[0m \u001B[0mto_dataframe\u001B[0m\u001B[0;34m(\u001B[0m\u001B[0mmembers\u001B[0m\u001B[0;34m)\u001B[0m\u001B[0;34m.\u001B[0m\u001B[0mdrop\u001B[0m\u001B[0;34m(\u001B[0m\u001B[0;34m[\u001B[0m\u001B[0;34m'accurate_mass'\u001B[0m\u001B[0;34m,\u001B[0m\u001B[0;34m'spectrum'\u001B[0m\u001B[0;34m,\u001B[0m\u001B[0;34m'method'\u001B[0m\u001B[0;34m,\u001B[0m\u001B[0;34m'ms_level'\u001B[0m\u001B[0;34m,\u001B[0m\u001B[0;34m'required_for_correction'\u001B[0m\u001B[0;34m,\u001B[0m\u001B[0;34m'inchi_key'\u001B[0m\u001B[0;34m,\u001B[0m\u001B[0;34m'target_type'\u001B[0m\u001B[0;34m,\u001B[0m\u001B[0;34m'splash'\u001B[0m\u001B[0;34m,\u001B[0m\u001B[0;34m'unique_mass'\u001B[0m\u001B[0;34m,\u001B[0m\u001B[0;34m'name'\u001B[0m\u001B[0;34m]\u001B[0m\u001B[0;34m,\u001B[0m\u001B[0maxis\u001B[0m\u001B[0;34m=\u001B[0m\u001B[0;36m1\u001B[0m\u001B[0;34m)\u001B[0m\u001B[0;34m\u001B[0m\u001B[0;34m\u001B[0m\u001B[0m\n\u001B[1;32m     14\u001B[0m     \u001B[0;32mreturn\u001B[0m \u001B[0mmem\u001B[0m\u001B[0;34m\u001B[0m\u001B[0;34m\u001B[0m\u001B[0m\n\u001B[0;32m---> 15\u001B[0;31m \u001B[0mmembers\u001B[0m \u001B[0;34m=\u001B[0m \u001B[0;34m[\u001B[0m\u001B[0mshow\u001B[0m\u001B[0;34m(\u001B[0m\u001B[0mcompound\u001B[0m\u001B[0;34m,\u001B[0m \u001B[0mmembers\u001B[0m\u001B[0;34m)\u001B[0m \u001B[0;32mfor\u001B[0m \u001B[0mcompound\u001B[0m\u001B[0;34m,\u001B[0m \u001B[0mmembers\u001B[0m \u001B[0;32min\u001B[0m \u001B[0mzip\u001B[0m\u001B[0;34m(\u001B[0m\u001B[0mlib\u001B[0m\u001B[0;34m[\u001B[0m\u001B[0;34m'splash'\u001B[0m\u001B[0;34m]\u001B[0m\u001B[0;34m.\u001B[0m\u001B[0mapply\u001B[0m\u001B[0;34m(\u001B[0m\u001B[0;32mlambda\u001B[0m \u001B[0mx\u001B[0m\u001B[0;34m:\u001B[0m \u001B[0mclient\u001B[0m\u001B[0;34m.\u001B[0m\u001B[0mget_compound\u001B[0m\u001B[0;34m(\u001B[0m\u001B[0mlibrary\u001B[0m\u001B[0;34m=\u001B[0m\u001B[0mlibrary\u001B[0m\u001B[0;34m,\u001B[0m\u001B[0msplash\u001B[0m\u001B[0;34m=\u001B[0m\u001B[0mx\u001B[0m\u001B[0;34m)\u001B[0m\u001B[0;34m)\u001B[0m\u001B[0;34m,\u001B[0m \u001B[0mlib\u001B[0m\u001B[0;34m[\u001B[0m\u001B[0;34m'members'\u001B[0m\u001B[0;34m]\u001B[0m\u001B[0;34m)\u001B[0m\u001B[0;34m]\u001B[0m\u001B[0;34m\u001B[0m\u001B[0;34m\u001B[0m\u001B[0m\n\u001B[0m\u001B[1;32m     16\u001B[0m \u001B[0;34m\u001B[0m\u001B[0m\n\u001B[1;32m     17\u001B[0m \u001B[0;34m\u001B[0m\u001B[0m\n",
      "\u001B[0;32m<ipython-input-14-f4d37b67e826>\u001B[0m in \u001B[0;36mshow\u001B[0;34m(compound, members)\u001B[0m\n\u001B[1;32m      9\u001B[0m     \u001B[0mplt\u001B[0m\u001B[0;34m.\u001B[0m\u001B[0mshow\u001B[0m\u001B[0;34m(\u001B[0m\u001B[0;34m)\u001B[0m\u001B[0;34m\u001B[0m\u001B[0;34m\u001B[0m\u001B[0m\n\u001B[1;32m     10\u001B[0m     \u001B[0;32mfor\u001B[0m \u001B[0mmember\u001B[0m \u001B[0;32min\u001B[0m \u001B[0mmembers\u001B[0m\u001B[0;34m:\u001B[0m\u001B[0;34m\u001B[0m\u001B[0;34m\u001B[0m\u001B[0m\n\u001B[0;32m---> 11\u001B[0;31m         \u001B[0mgenerate_head_tail_plot\u001B[0m\u001B[0;34m(\u001B[0m\u001B[0mmember\u001B[0m\u001B[0;34m=\u001B[0m\u001B[0mmember\u001B[0m\u001B[0;34m,\u001B[0m\u001B[0mcompound\u001B[0m\u001B[0;34m=\u001B[0m\u001B[0mcompound\u001B[0m\u001B[0;34m)\u001B[0m\u001B[0;34m\u001B[0m\u001B[0;34m\u001B[0m\u001B[0m\n\u001B[0m\u001B[1;32m     12\u001B[0m \u001B[0;34m\u001B[0m\u001B[0m\n\u001B[1;32m     13\u001B[0m     \u001B[0mmem\u001B[0m \u001B[0;34m=\u001B[0m \u001B[0mto_dataframe\u001B[0m\u001B[0;34m(\u001B[0m\u001B[0mmembers\u001B[0m\u001B[0;34m)\u001B[0m\u001B[0;34m.\u001B[0m\u001B[0mdrop\u001B[0m\u001B[0;34m(\u001B[0m\u001B[0;34m[\u001B[0m\u001B[0;34m'accurate_mass'\u001B[0m\u001B[0;34m,\u001B[0m\u001B[0;34m'spectrum'\u001B[0m\u001B[0;34m,\u001B[0m\u001B[0;34m'method'\u001B[0m\u001B[0;34m,\u001B[0m\u001B[0;34m'ms_level'\u001B[0m\u001B[0;34m,\u001B[0m\u001B[0;34m'required_for_correction'\u001B[0m\u001B[0;34m,\u001B[0m\u001B[0;34m'inchi_key'\u001B[0m\u001B[0;34m,\u001B[0m\u001B[0;34m'target_type'\u001B[0m\u001B[0;34m,\u001B[0m\u001B[0;34m'splash'\u001B[0m\u001B[0;34m,\u001B[0m\u001B[0;34m'unique_mass'\u001B[0m\u001B[0;34m,\u001B[0m\u001B[0;34m'name'\u001B[0m\u001B[0;34m]\u001B[0m\u001B[0;34m,\u001B[0m\u001B[0maxis\u001B[0m\u001B[0;34m=\u001B[0m\u001B[0;36m1\u001B[0m\u001B[0;34m)\u001B[0m\u001B[0;34m\u001B[0m\u001B[0;34m\u001B[0m\u001B[0m\n",
      "\u001B[0;31mTypeError\u001B[0m: generate_head_tail_plot() missing 1 required positional argument: 'figsize'"
     ]
    }
   ],
   "source": [
    "def show(compound,members):\n",
    "\n",
    "    fig, axes = plt.subplots(1, 3)\n",
    "\n",
    "    generate_histogram_ri(members,axes=axes[0])\n",
    "    generate_histogram_accurate_mass(members,axes=axes[1])\n",
    "    generate_histogram_intensity(members,axes=axes[2])\n",
    "\n",
    "    plt.show()\n",
    "    for member in members:\n",
    "        generate_head_tail_plot(member=member,compound=compound)\n",
    "\n",
    "    mem = to_dataframe(members).drop(['accurate_mass','spectrum','method','ms_level','required_for_correction','inchi_key','target_type','splash','unique_mass','name'],axis=1)\n",
    "    return mem\n",
    "members = [show(compound, members) for compound, members in zip(lib['splash'].apply(lambda x: client.get_compound(library=library,splash=x)), lib['members'])]\n",
    "\n"
   ],
   "metadata": {
    "collapsed": false,
    "pycharm": {
     "name": "#%%\n"
    }
   }
  }
 ],
 "metadata": {
  "kernelspec": {
   "display_name": "Python 3",
   "language": "python",
   "name": "python3"
  },
  "language_info": {
   "codemirror_mode": {
    "name": "ipython",
    "version": 2
   },
   "file_extension": ".py",
   "mimetype": "text/x-python",
   "name": "python",
   "nbconvert_exporter": "python",
   "pygments_lexer": "ipython2",
   "version": "2.7.6"
  }
 },
 "nbformat": 4,
 "nbformat_minor": 0
}