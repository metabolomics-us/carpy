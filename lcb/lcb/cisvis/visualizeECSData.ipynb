{
 "cells": [
  {
   "cell_type": "markdown",
   "metadata": {
    "pycharm": {
     "name": "#%% md\n"
    }
   },
   "source": [
    "this scans the ECS tasks table in WCMC and so requires local AWS properties to be defined"
   ]
  },
  {
   "cell_type": "code",
   "execution_count": 42,
   "metadata": {
    "collapsed": true
   },
   "outputs": [],
   "source": []
  },
  {
   "cell_type": "code",
   "execution_count": 43,
   "metadata": {
    "pycharm": {
     "name": "#%%\n"
    }
   },
   "outputs": [
    {
     "data": {
      "text/plain": "                           task                 stoppedAt   cpu  \\\n0          secure-carrot-runner  2020-06-15T22:00:48.475Z  1024   \n1          secure-carrot-runner  2020-06-06T03:54:09.738Z  1024   \n2          secure-carrot-runner  2020-06-17T23:07:34.063Z  1024   \n3          secure-carrot-runner  2020-06-20T02:02:45.808Z  1024   \n4          secure-carrot-runner  2020-06-22T17:55:26.863Z  1024   \n...                         ...                       ...   ...   \n20086      secure-carrot-runner  2020-06-17T23:34:21.042Z  1024   \n20087      secure-carrot-runner  2020-06-15T03:40:35.439Z  1024   \n20088  secure-carrot-aggregator  2020-05-30T23:20:10.895Z  2048   \n20089      secure-carrot-runner  2020-06-21T16:33:14.127Z  1024   \n20090      secure-carrot-runner  2020-06-20T20:00:57.887Z  1024   \n\n                                          taskDefinition  \\\n0      arn:aws:ecs:us-west-2:702514165722:task-defini...   \n1      arn:aws:ecs:us-west-2:702514165722:task-defini...   \n2      arn:aws:ecs:us-west-2:702514165722:task-defini...   \n3      arn:aws:ecs:us-west-2:702514165722:task-defini...   \n4      arn:aws:ecs:us-west-2:702514165722:task-defini...   \n...                                                  ...   \n20086  arn:aws:ecs:us-west-2:702514165722:task-defini...   \n20087  arn:aws:ecs:us-west-2:702514165722:task-defini...   \n20088  arn:aws:ecs:us-west-2:702514165722:task-defini...   \n20089  arn:aws:ecs:us-west-2:702514165722:task-defini...   \n20090  arn:aws:ecs:us-west-2:702514165722:task-defini...   \n\n                                                  digest   status memory  \\\n0      sha256:675b466d7f3c349d97a70628bc432e8f51c41a8...  STOPPED   8192   \n1      sha256:c8cbaadd56f6fd7907dafb376a6247469132e35...  STOPPED   8192   \n2      sha256:95ed18d8a4e2a1da774b9b1619e12d2bed2e45b...  STOPPED   8192   \n3      sha256:fec01d4676e8ce9e56d1d4fa4f3ab35c0412360...  STOPPED   8192   \n4      sha256:fec01d4676e8ce9e56d1d4fa4f3ab35c0412360...  STOPPED   8192   \n...                                                  ...      ...    ...   \n20086  sha256:95ed18d8a4e2a1da774b9b1619e12d2bed2e45b...  STOPPED   8192   \n20087  sha256:2810d2310f76b72709589a61a2a0cd5af77332e...  STOPPED   8192   \n20088  sha256:d6165bd93363bf7d69a2b0048957d2b0abc54b7...  STOPPED  10240   \n20089  sha256:fec01d4676e8ce9e56d1d4fa4f3ab35c0412360...  STOPPED   8192   \n20090  sha256:fec01d4676e8ce9e56d1d4fa4f3ab35c0412360...  STOPPED   8192   \n\n                               stopReason  \\\n0      Essential container in task exited   \n1      Essential container in task exited   \n2      Essential container in task exited   \n3      Essential container in task exited   \n4      Essential container in task exited   \n...                                   ...   \n20086  Essential container in task exited   \n20087  Essential container in task exited   \n20088  Essential container in task exited   \n20089  Essential container in task exited   \n20090  Essential container in task exited   \n\n                                                     env  \\\n0      [{'name': 'SPRING_PROFILES_ACTIVE', 'value': '...   \n1      [{'name': 'SPRING_PROFILES_ACTIVE', 'value': '...   \n2      [{'name': 'SPRING_PROFILES_ACTIVE', 'value': '...   \n3      [{'name': 'SPRING_PROFILES_ACTIVE', 'value': '...   \n4      [{'name': 'SPRING_PROFILES_ACTIVE', 'value': '...   \n...                                                  ...   \n20086  [{'name': 'SPRING_PROFILES_ACTIVE', 'value': '...   \n20087  [{'name': 'SPRING_PROFILES_ACTIVE', 'value': '...   \n20088  [{'name': 'CARROT_JOB', 'value': 'splashone_ne...   \n20089  [{'name': 'SPRING_PROFILES_ACTIVE', 'value': '...   \n20090  [{'name': 'SPRING_PROFILES_ACTIVE', 'value': '...   \n\n                                                   image  \\\n0      702514165722.dkr.ecr.us-west-2.amazonaws.com/c...   \n1      702514165722.dkr.ecr.us-west-2.amazonaws.com/c...   \n2      702514165722.dkr.ecr.us-west-2.amazonaws.com/c...   \n3      702514165722.dkr.ecr.us-west-2.amazonaws.com/c...   \n4      702514165722.dkr.ecr.us-west-2.amazonaws.com/c...   \n...                                                  ...   \n20086  702514165722.dkr.ecr.us-west-2.amazonaws.com/c...   \n20087  702514165722.dkr.ecr.us-west-2.amazonaws.com/c...   \n20088  702514165722.dkr.ecr.us-west-2.amazonaws.com/c...   \n20089  702514165722.dkr.ecr.us-west-2.amazonaws.com/c...   \n20090  702514165722.dkr.ecr.us-west-2.amazonaws.com/c...   \n\n                      startedAt exitCode                                    id  \n0       2020-06-15T21:58:10.15Z        0  2e926d42-5be4-6127-1e3d-1e5f7fe0e426  \n1      2020-06-06T03:50:10.914Z        0  f57e54e4-e9ec-c5c6-62ff-b6f16d6b99fb  \n2      2020-06-17T23:04:51.595Z        0  98b906aa-d90a-aa52-e92c-ce6db6c77da9  \n3       2020-06-20T01:52:58.52Z        0  04167c86-425e-c788-3c5f-08ebf45c3474  \n4       2020-06-22T17:51:35.55Z        0  91e35f87-ca8a-938a-f14f-a9f9384fbddf  \n...                         ...      ...                                   ...  \n20086  2020-06-17T23:33:06.988Z        0  5f4d9906-1360-ed6b-c6aa-d48148043131  \n20087  2020-06-15T03:36:02.952Z        0  da08f7f5-90d4-21b8-1e09-c11ea8cface9  \n20088  2020-05-30T23:16:04.138Z        0  0b413c73-6838-a42b-5baa-a8bc9a44273c  \n20089  2020-06-21T16:30:10.047Z        0  34723289-d3bd-51b5-bbbb-986e89dfa044  \n20090  2020-06-20T19:58:02.011Z        0  de6ea46a-7b17-633d-3c11-ca01ba9792ce  \n\n[20091 rows x 13 columns]",
      "text/html": "<div>\n<style scoped>\n    .dataframe tbody tr th:only-of-type {\n        vertical-align: middle;\n    }\n\n    .dataframe tbody tr th {\n        vertical-align: top;\n    }\n\n    .dataframe thead th {\n        text-align: right;\n    }\n</style>\n<table border=\"1\" class=\"dataframe\">\n  <thead>\n    <tr style=\"text-align: right;\">\n      <th></th>\n      <th>task</th>\n      <th>stoppedAt</th>\n      <th>cpu</th>\n      <th>taskDefinition</th>\n      <th>digest</th>\n      <th>status</th>\n      <th>memory</th>\n      <th>stopReason</th>\n      <th>env</th>\n      <th>image</th>\n      <th>startedAt</th>\n      <th>exitCode</th>\n      <th>id</th>\n    </tr>\n  </thead>\n  <tbody>\n    <tr>\n      <th>0</th>\n      <td>secure-carrot-runner</td>\n      <td>2020-06-15T22:00:48.475Z</td>\n      <td>1024</td>\n      <td>arn:aws:ecs:us-west-2:702514165722:task-defini...</td>\n      <td>sha256:675b466d7f3c349d97a70628bc432e8f51c41a8...</td>\n      <td>STOPPED</td>\n      <td>8192</td>\n      <td>Essential container in task exited</td>\n      <td>[{'name': 'SPRING_PROFILES_ACTIVE', 'value': '...</td>\n      <td>702514165722.dkr.ecr.us-west-2.amazonaws.com/c...</td>\n      <td>2020-06-15T21:58:10.15Z</td>\n      <td>0</td>\n      <td>2e926d42-5be4-6127-1e3d-1e5f7fe0e426</td>\n    </tr>\n    <tr>\n      <th>1</th>\n      <td>secure-carrot-runner</td>\n      <td>2020-06-06T03:54:09.738Z</td>\n      <td>1024</td>\n      <td>arn:aws:ecs:us-west-2:702514165722:task-defini...</td>\n      <td>sha256:c8cbaadd56f6fd7907dafb376a6247469132e35...</td>\n      <td>STOPPED</td>\n      <td>8192</td>\n      <td>Essential container in task exited</td>\n      <td>[{'name': 'SPRING_PROFILES_ACTIVE', 'value': '...</td>\n      <td>702514165722.dkr.ecr.us-west-2.amazonaws.com/c...</td>\n      <td>2020-06-06T03:50:10.914Z</td>\n      <td>0</td>\n      <td>f57e54e4-e9ec-c5c6-62ff-b6f16d6b99fb</td>\n    </tr>\n    <tr>\n      <th>2</th>\n      <td>secure-carrot-runner</td>\n      <td>2020-06-17T23:07:34.063Z</td>\n      <td>1024</td>\n      <td>arn:aws:ecs:us-west-2:702514165722:task-defini...</td>\n      <td>sha256:95ed18d8a4e2a1da774b9b1619e12d2bed2e45b...</td>\n      <td>STOPPED</td>\n      <td>8192</td>\n      <td>Essential container in task exited</td>\n      <td>[{'name': 'SPRING_PROFILES_ACTIVE', 'value': '...</td>\n      <td>702514165722.dkr.ecr.us-west-2.amazonaws.com/c...</td>\n      <td>2020-06-17T23:04:51.595Z</td>\n      <td>0</td>\n      <td>98b906aa-d90a-aa52-e92c-ce6db6c77da9</td>\n    </tr>\n    <tr>\n      <th>3</th>\n      <td>secure-carrot-runner</td>\n      <td>2020-06-20T02:02:45.808Z</td>\n      <td>1024</td>\n      <td>arn:aws:ecs:us-west-2:702514165722:task-defini...</td>\n      <td>sha256:fec01d4676e8ce9e56d1d4fa4f3ab35c0412360...</td>\n      <td>STOPPED</td>\n      <td>8192</td>\n      <td>Essential container in task exited</td>\n      <td>[{'name': 'SPRING_PROFILES_ACTIVE', 'value': '...</td>\n      <td>702514165722.dkr.ecr.us-west-2.amazonaws.com/c...</td>\n      <td>2020-06-20T01:52:58.52Z</td>\n      <td>0</td>\n      <td>04167c86-425e-c788-3c5f-08ebf45c3474</td>\n    </tr>\n    <tr>\n      <th>4</th>\n      <td>secure-carrot-runner</td>\n      <td>2020-06-22T17:55:26.863Z</td>\n      <td>1024</td>\n      <td>arn:aws:ecs:us-west-2:702514165722:task-defini...</td>\n      <td>sha256:fec01d4676e8ce9e56d1d4fa4f3ab35c0412360...</td>\n      <td>STOPPED</td>\n      <td>8192</td>\n      <td>Essential container in task exited</td>\n      <td>[{'name': 'SPRING_PROFILES_ACTIVE', 'value': '...</td>\n      <td>702514165722.dkr.ecr.us-west-2.amazonaws.com/c...</td>\n      <td>2020-06-22T17:51:35.55Z</td>\n      <td>0</td>\n      <td>91e35f87-ca8a-938a-f14f-a9f9384fbddf</td>\n    </tr>\n    <tr>\n      <th>...</th>\n      <td>...</td>\n      <td>...</td>\n      <td>...</td>\n      <td>...</td>\n      <td>...</td>\n      <td>...</td>\n      <td>...</td>\n      <td>...</td>\n      <td>...</td>\n      <td>...</td>\n      <td>...</td>\n      <td>...</td>\n      <td>...</td>\n    </tr>\n    <tr>\n      <th>20086</th>\n      <td>secure-carrot-runner</td>\n      <td>2020-06-17T23:34:21.042Z</td>\n      <td>1024</td>\n      <td>arn:aws:ecs:us-west-2:702514165722:task-defini...</td>\n      <td>sha256:95ed18d8a4e2a1da774b9b1619e12d2bed2e45b...</td>\n      <td>STOPPED</td>\n      <td>8192</td>\n      <td>Essential container in task exited</td>\n      <td>[{'name': 'SPRING_PROFILES_ACTIVE', 'value': '...</td>\n      <td>702514165722.dkr.ecr.us-west-2.amazonaws.com/c...</td>\n      <td>2020-06-17T23:33:06.988Z</td>\n      <td>0</td>\n      <td>5f4d9906-1360-ed6b-c6aa-d48148043131</td>\n    </tr>\n    <tr>\n      <th>20087</th>\n      <td>secure-carrot-runner</td>\n      <td>2020-06-15T03:40:35.439Z</td>\n      <td>1024</td>\n      <td>arn:aws:ecs:us-west-2:702514165722:task-defini...</td>\n      <td>sha256:2810d2310f76b72709589a61a2a0cd5af77332e...</td>\n      <td>STOPPED</td>\n      <td>8192</td>\n      <td>Essential container in task exited</td>\n      <td>[{'name': 'SPRING_PROFILES_ACTIVE', 'value': '...</td>\n      <td>702514165722.dkr.ecr.us-west-2.amazonaws.com/c...</td>\n      <td>2020-06-15T03:36:02.952Z</td>\n      <td>0</td>\n      <td>da08f7f5-90d4-21b8-1e09-c11ea8cface9</td>\n    </tr>\n    <tr>\n      <th>20088</th>\n      <td>secure-carrot-aggregator</td>\n      <td>2020-05-30T23:20:10.895Z</td>\n      <td>2048</td>\n      <td>arn:aws:ecs:us-west-2:702514165722:task-defini...</td>\n      <td>sha256:d6165bd93363bf7d69a2b0048957d2b0abc54b7...</td>\n      <td>STOPPED</td>\n      <td>10240</td>\n      <td>Essential container in task exited</td>\n      <td>[{'name': 'CARROT_JOB', 'value': 'splashone_ne...</td>\n      <td>702514165722.dkr.ecr.us-west-2.amazonaws.com/c...</td>\n      <td>2020-05-30T23:16:04.138Z</td>\n      <td>0</td>\n      <td>0b413c73-6838-a42b-5baa-a8bc9a44273c</td>\n    </tr>\n    <tr>\n      <th>20089</th>\n      <td>secure-carrot-runner</td>\n      <td>2020-06-21T16:33:14.127Z</td>\n      <td>1024</td>\n      <td>arn:aws:ecs:us-west-2:702514165722:task-defini...</td>\n      <td>sha256:fec01d4676e8ce9e56d1d4fa4f3ab35c0412360...</td>\n      <td>STOPPED</td>\n      <td>8192</td>\n      <td>Essential container in task exited</td>\n      <td>[{'name': 'SPRING_PROFILES_ACTIVE', 'value': '...</td>\n      <td>702514165722.dkr.ecr.us-west-2.amazonaws.com/c...</td>\n      <td>2020-06-21T16:30:10.047Z</td>\n      <td>0</td>\n      <td>34723289-d3bd-51b5-bbbb-986e89dfa044</td>\n    </tr>\n    <tr>\n      <th>20090</th>\n      <td>secure-carrot-runner</td>\n      <td>2020-06-20T20:00:57.887Z</td>\n      <td>1024</td>\n      <td>arn:aws:ecs:us-west-2:702514165722:task-defini...</td>\n      <td>sha256:fec01d4676e8ce9e56d1d4fa4f3ab35c0412360...</td>\n      <td>STOPPED</td>\n      <td>8192</td>\n      <td>Essential container in task exited</td>\n      <td>[{'name': 'SPRING_PROFILES_ACTIVE', 'value': '...</td>\n      <td>702514165722.dkr.ecr.us-west-2.amazonaws.com/c...</td>\n      <td>2020-06-20T19:58:02.011Z</td>\n      <td>0</td>\n      <td>de6ea46a-7b17-633d-3c11-ca01ba9792ce</td>\n    </tr>\n  </tbody>\n</table>\n<p>20091 rows × 13 columns</p>\n</div>"
     },
     "execution_count": 43,
     "metadata": {},
     "output_type": "execute_result"
    }
   ],
   "source": [
    "from pandas import to_datetime, NamedAgg\n",
    "from lcb.cisvis.ecs import history\n",
    "import pandas as pd\n",
    "ecsTasks = history()\n",
    "tasks = pd.DataFrame(ecsTasks)\n",
    "\n",
    "tasks\n"
   ]
  },
  {
   "cell_type": "code",
   "execution_count": 44,
   "outputs": [],
   "source": [
    "tasks['duration'] = to_datetime(tasks['stoppedAt']) - to_datetime(tasks['startedAt'])\n",
    "tasks['duration_s'] = tasks['duration'].apply(lambda x: x.total_seconds())\n",
    "tasks['date'] = to_datetime(tasks['stoppedAt'])\n",
    "tasks['date'] = tasks['date'].apply(lambda x: x.date())"
   ],
   "metadata": {
    "collapsed": false,
    "pycharm": {
     "name": "#%%\n"
    }
   }
  },
  {
   "cell_type": "code",
   "execution_count": 45,
   "outputs": [],
   "source": [
    "\n",
    "tasks_per_day = tasks.groupby(to_datetime(tasks['date'])).agg(\n",
    "    max_duration = NamedAgg(column='duration_s',aggfunc=max),\n",
    "    min_duration = NamedAgg(column='duration_s',aggfunc=min),\n",
    "    avg_duration = NamedAgg(column='duration_s',aggfunc='mean'),\n",
    "    count = NamedAgg(column='duration_s',aggfunc='count')\n",
    "\n",
    "\n",
    ")"
   ],
   "metadata": {
    "collapsed": false,
    "pycharm": {
     "name": "#%%\n"
    }
   }
  },
  {
   "cell_type": "code",
   "execution_count": 46,
   "outputs": [
    {
     "data": {
      "text/plain": "            max_duration  min_duration  avg_duration  count\ndate                                                       \n2020-05-27      3927.907        60.533    976.901705    292\n2020-05-28      1113.366        60.614    284.350780    759\n2020-05-29       889.751       160.014    353.706421    114\n2020-05-30       903.686        58.030    323.842670    631\n2020-06-01      1331.831        59.363    313.657577    319\n2020-06-04       995.361        57.515    248.714663    945\n2020-06-05      1138.868        58.507    286.780150   1244\n2020-06-06       321.908        61.589    199.273829    280\n2020-06-10      1223.754        59.057    384.671138    715\n2020-06-11      1561.832        59.776    422.961917    325\n2020-06-13      6019.062       119.806   1080.079958    308\n2020-06-14      8986.229       125.595   3054.292386    370\n2020-06-15      8826.765        58.005    722.057744    856\n2020-06-16      4130.032        23.287    267.033316   1340\n2020-06-17      5194.153        24.336    611.101606   1672\n2020-06-18      7731.415        59.681    238.982630   1495\n2020-06-19      7349.772        58.840    489.912478   2146\n2020-06-20      7384.085        61.370    676.854472   1505\n2020-06-21      1447.245        59.459    244.252171   2723\n2020-06-22      8838.713        59.312    507.526151   1650\n2020-06-23     48707.756        31.245   9120.354239    402",
      "text/html": "<div>\n<style scoped>\n    .dataframe tbody tr th:only-of-type {\n        vertical-align: middle;\n    }\n\n    .dataframe tbody tr th {\n        vertical-align: top;\n    }\n\n    .dataframe thead th {\n        text-align: right;\n    }\n</style>\n<table border=\"1\" class=\"dataframe\">\n  <thead>\n    <tr style=\"text-align: right;\">\n      <th></th>\n      <th>max_duration</th>\n      <th>min_duration</th>\n      <th>avg_duration</th>\n      <th>count</th>\n    </tr>\n    <tr>\n      <th>date</th>\n      <th></th>\n      <th></th>\n      <th></th>\n      <th></th>\n    </tr>\n  </thead>\n  <tbody>\n    <tr>\n      <th>2020-05-27</th>\n      <td>3927.907</td>\n      <td>60.533</td>\n      <td>976.901705</td>\n      <td>292</td>\n    </tr>\n    <tr>\n      <th>2020-05-28</th>\n      <td>1113.366</td>\n      <td>60.614</td>\n      <td>284.350780</td>\n      <td>759</td>\n    </tr>\n    <tr>\n      <th>2020-05-29</th>\n      <td>889.751</td>\n      <td>160.014</td>\n      <td>353.706421</td>\n      <td>114</td>\n    </tr>\n    <tr>\n      <th>2020-05-30</th>\n      <td>903.686</td>\n      <td>58.030</td>\n      <td>323.842670</td>\n      <td>631</td>\n    </tr>\n    <tr>\n      <th>2020-06-01</th>\n      <td>1331.831</td>\n      <td>59.363</td>\n      <td>313.657577</td>\n      <td>319</td>\n    </tr>\n    <tr>\n      <th>2020-06-04</th>\n      <td>995.361</td>\n      <td>57.515</td>\n      <td>248.714663</td>\n      <td>945</td>\n    </tr>\n    <tr>\n      <th>2020-06-05</th>\n      <td>1138.868</td>\n      <td>58.507</td>\n      <td>286.780150</td>\n      <td>1244</td>\n    </tr>\n    <tr>\n      <th>2020-06-06</th>\n      <td>321.908</td>\n      <td>61.589</td>\n      <td>199.273829</td>\n      <td>280</td>\n    </tr>\n    <tr>\n      <th>2020-06-10</th>\n      <td>1223.754</td>\n      <td>59.057</td>\n      <td>384.671138</td>\n      <td>715</td>\n    </tr>\n    <tr>\n      <th>2020-06-11</th>\n      <td>1561.832</td>\n      <td>59.776</td>\n      <td>422.961917</td>\n      <td>325</td>\n    </tr>\n    <tr>\n      <th>2020-06-13</th>\n      <td>6019.062</td>\n      <td>119.806</td>\n      <td>1080.079958</td>\n      <td>308</td>\n    </tr>\n    <tr>\n      <th>2020-06-14</th>\n      <td>8986.229</td>\n      <td>125.595</td>\n      <td>3054.292386</td>\n      <td>370</td>\n    </tr>\n    <tr>\n      <th>2020-06-15</th>\n      <td>8826.765</td>\n      <td>58.005</td>\n      <td>722.057744</td>\n      <td>856</td>\n    </tr>\n    <tr>\n      <th>2020-06-16</th>\n      <td>4130.032</td>\n      <td>23.287</td>\n      <td>267.033316</td>\n      <td>1340</td>\n    </tr>\n    <tr>\n      <th>2020-06-17</th>\n      <td>5194.153</td>\n      <td>24.336</td>\n      <td>611.101606</td>\n      <td>1672</td>\n    </tr>\n    <tr>\n      <th>2020-06-18</th>\n      <td>7731.415</td>\n      <td>59.681</td>\n      <td>238.982630</td>\n      <td>1495</td>\n    </tr>\n    <tr>\n      <th>2020-06-19</th>\n      <td>7349.772</td>\n      <td>58.840</td>\n      <td>489.912478</td>\n      <td>2146</td>\n    </tr>\n    <tr>\n      <th>2020-06-20</th>\n      <td>7384.085</td>\n      <td>61.370</td>\n      <td>676.854472</td>\n      <td>1505</td>\n    </tr>\n    <tr>\n      <th>2020-06-21</th>\n      <td>1447.245</td>\n      <td>59.459</td>\n      <td>244.252171</td>\n      <td>2723</td>\n    </tr>\n    <tr>\n      <th>2020-06-22</th>\n      <td>8838.713</td>\n      <td>59.312</td>\n      <td>507.526151</td>\n      <td>1650</td>\n    </tr>\n    <tr>\n      <th>2020-06-23</th>\n      <td>48707.756</td>\n      <td>31.245</td>\n      <td>9120.354239</td>\n      <td>402</td>\n    </tr>\n  </tbody>\n</table>\n</div>"
     },
     "execution_count": 46,
     "metadata": {},
     "output_type": "execute_result"
    }
   ],
   "source": [
    "tasks_per_day"
   ],
   "metadata": {
    "collapsed": false,
    "pycharm": {
     "name": "#%%\n"
    }
   }
  }
 ],
 "metadata": {
  "kernelspec": {
   "display_name": "Python 3",
   "language": "python",
   "name": "python3"
  },
  "language_info": {
   "codemirror_mode": {
    "name": "ipython",
    "version": 3
   },
   "file_extension": ".py",
   "mimetype": "text/x-python",
   "name": "python",
   "nbconvert_exporter": "python",
   "pygments_lexer": "ipython3",
   "version": "3.8.2"
  }
 },
 "nbformat": 4,
 "nbformat_minor": 1
}